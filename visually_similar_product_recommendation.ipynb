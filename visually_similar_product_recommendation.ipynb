{
  "metadata": {
    "kernelspec": {
      "language": "python",
      "display_name": "Python 3",
      "name": "python3"
    },
    "language_info": {
      "name": "python",
      "version": "3.7.12",
      "mimetype": "text/x-python",
      "codemirror_mode": {
        "name": "ipython",
        "version": 3
      },
      "pygments_lexer": "ipython3",
      "nbconvert_exporter": "python",
      "file_extension": ".py"
    },
    "colab": {
      "provenance": []
    }
  },
  "nbformat_minor": 0,
  "nbformat": 4,
  "cells": [
    {
      "cell_type": "code",
      "source": [
        "#Adarsh Tiwari\n",
        "#21HS10060"
      ],
      "metadata": {
        "id": "ek8XVULBXPbd"
      },
      "execution_count": null,
      "outputs": []
    },
    {
      "cell_type": "code",
      "source": [
        "import numpy as np\n",
        "import pandas as pd\n",
        "import os\n",
        "import re\n",
        "import tensorflow as tf\n",
        "from threading import Thread\n",
        "import time\n",
        "from tqdm import tqdm\n",
        "import matplotlib.pyplot as plt\n",
        "import plotly.express as px\n",
        "from plotly.offline import init_notebook_mode\n",
        "from tensorflow.keras.preprocessing.image import ImageDataGenerator, load_img, img_to_array\n",
        "from tensorflow.keras.preprocessing.text import Tokenizer\n",
        "from tensorflow.keras.preprocessing.sequence import pad_sequences\n",
        "from tensorflow.keras.utils import Sequence\n",
        "from tensorflow.keras.utils import to_categorical\n",
        "from tensorflow.keras.models import Sequential, Model\n",
        "from tensorflow.keras.layers import Conv2D, MaxPooling2D, GlobalAveragePooling2D, Activation, Dropout, Flatten, Dense, Input, Layer\n",
        "from tensorflow.keras.applications import VGG16, ResNet50, DenseNet201, Xception\n",
        "from tensorflow.keras.optimizers import Adam\n",
        "from tensorflow.keras.utils import plot_model\n",
        "from tensorflow.keras.callbacks import ModelCheckpoint, EarlyStopping, ReduceLROnPlateau\n",
        "\n",
        "init_notebook_mode(connected=True)"
      ],
      "metadata": {
        "_uuid": "8f2839f25d086af736a60e9eeb907d3b93b6e0e5",
        "_cell_guid": "b1076dfc-b9ad-4769-8c92-a6c4dae69d19",
        "execution": {
          "iopub.status.busy": "2022-07-07T18:48:04.666347Z",
          "iopub.execute_input": "2022-07-07T18:48:04.666825Z",
          "iopub.status.idle": "2022-07-07T18:48:13.341901Z",
          "shell.execute_reply.started": "2022-07-07T18:48:04.666706Z",
          "shell.execute_reply": "2022-07-07T18:48:13.340699Z"
        },
        "trusted": true,
        "id": "Mo6zlNy5WXBk",
        "outputId": "4c5af485-9c7d-4512-a8e5-f1886fd12171"
      },
      "execution_count": null,
      "outputs": [
        {
          "output_type": "display_data",
          "data": {
            "text/html": "        <script type=\"text/javascript\">\n        window.PlotlyConfig = {MathJaxConfig: 'local'};\n        if (window.MathJax && window.MathJax.Hub && window.MathJax.Hub.Config) {window.MathJax.Hub.Config({SVG: {font: \"STIX-Web\"}});}\n        if (typeof require !== 'undefined') {\n        require.undef(\"plotly\");\n        requirejs.config({\n            paths: {\n                'plotly': ['https://cdn.plot.ly/plotly-2.12.1.min']\n            }\n        });\n        require(['plotly'], function(Plotly) {\n            window._Plotly = Plotly;\n        });\n        }\n        </script>\n        "
          },
          "metadata": {}
        }
      ]
    },
    {
      "cell_type": "code",
      "source": [
        "images_df = pd.read_csv(\"../input/fashion-product-images-dataset/fashion-dataset/images.csv\")"
      ],
      "metadata": {
        "execution": {
          "iopub.status.busy": "2022-07-07T18:07:16.151344Z",
          "iopub.execute_input": "2022-07-07T18:07:16.152335Z",
          "iopub.status.idle": "2022-07-07T18:07:16.310350Z",
          "shell.execute_reply.started": "2022-07-07T18:07:16.152292Z",
          "shell.execute_reply": "2022-07-07T18:07:16.309382Z"
        },
        "trusted": true,
        "id": "HGmKFQpPWXBs"
      },
      "execution_count": null,
      "outputs": []
    },
    {
      "cell_type": "code",
      "source": [
        "styles_df = pd.read_csv(\"../input/fashion-product-images-dataset/fashion-dataset/styles.csv\", on_bad_lines='skip')"
      ],
      "metadata": {
        "execution": {
          "iopub.status.busy": "2022-07-07T18:07:16.312629Z",
          "iopub.execute_input": "2022-07-07T18:07:16.313211Z",
          "iopub.status.idle": "2022-07-07T18:07:16.457362Z",
          "shell.execute_reply.started": "2022-07-07T18:07:16.313173Z",
          "shell.execute_reply": "2022-07-07T18:07:16.456419Z"
        },
        "trusted": true,
        "id": "slJEh_BNWXBs"
      },
      "execution_count": null,
      "outputs": []
    },
    {
      "cell_type": "code",
      "source": [
        "images_df['id'] = images_df['filename'].apply(lambda x: x.replace(\".jpg\",\"\")).astype(int)"
      ],
      "metadata": {
        "execution": {
          "iopub.status.busy": "2022-07-07T18:07:16.459978Z",
          "iopub.execute_input": "2022-07-07T18:07:16.460331Z",
          "iopub.status.idle": "2022-07-07T18:07:16.497120Z",
          "shell.execute_reply.started": "2022-07-07T18:07:16.460289Z",
          "shell.execute_reply": "2022-07-07T18:07:16.496159Z"
        },
        "trusted": true,
        "id": "RfxjgReYWXBt"
      },
      "execution_count": null,
      "outputs": []
    },
    {
      "cell_type": "code",
      "source": [
        "images_df"
      ],
      "metadata": {
        "execution": {
          "iopub.status.busy": "2022-07-07T18:07:16.498740Z",
          "iopub.execute_input": "2022-07-07T18:07:16.499769Z",
          "iopub.status.idle": "2022-07-07T18:07:16.518546Z",
          "shell.execute_reply.started": "2022-07-07T18:07:16.499727Z",
          "shell.execute_reply": "2022-07-07T18:07:16.517665Z"
        },
        "trusted": true,
        "id": "9wFh_SNOWXBt",
        "outputId": "8e3877fa-4505-46f8-964a-a45ff3e465c0"
      },
      "execution_count": null,
      "outputs": [
        {
          "execution_count": 5,
          "output_type": "execute_result",
          "data": {
            "text/plain": "        filename                                               link     id\n0      15970.jpg  http://assets.myntassets.com/v1/images/style/p...  15970\n1      39386.jpg  http://assets.myntassets.com/v1/images/style/p...  39386\n2      59263.jpg  http://assets.myntassets.com/v1/images/style/p...  59263\n3      21379.jpg  http://assets.myntassets.com/v1/images/style/p...  21379\n4      53759.jpg  http://assets.myntassets.com/v1/images/style/p...  53759\n...          ...                                                ...    ...\n44441  17036.jpg  http://assets.myntassets.com/v1/images/style/p...  17036\n44442   6461.jpg  http://assets.myntassets.com/v1/images/style/p...   6461\n44443  18842.jpg  http://assets.myntassets.com/v1/images/style/p...  18842\n44444  46694.jpg  http://assets.myntassets.com/v1/images/style/p...  46694\n44445  51623.jpg  http://assets.myntassets.com/assets/images/516...  51623\n\n[44446 rows x 3 columns]",
            "text/html": "<div>\n<style scoped>\n    .dataframe tbody tr th:only-of-type {\n        vertical-align: middle;\n    }\n\n    .dataframe tbody tr th {\n        vertical-align: top;\n    }\n\n    .dataframe thead th {\n        text-align: right;\n    }\n</style>\n<table border=\"1\" class=\"dataframe\">\n  <thead>\n    <tr style=\"text-align: right;\">\n      <th></th>\n      <th>filename</th>\n      <th>link</th>\n      <th>id</th>\n    </tr>\n  </thead>\n  <tbody>\n    <tr>\n      <th>0</th>\n      <td>15970.jpg</td>\n      <td>http://assets.myntassets.com/v1/images/style/p...</td>\n      <td>15970</td>\n    </tr>\n    <tr>\n      <th>1</th>\n      <td>39386.jpg</td>\n      <td>http://assets.myntassets.com/v1/images/style/p...</td>\n      <td>39386</td>\n    </tr>\n    <tr>\n      <th>2</th>\n      <td>59263.jpg</td>\n      <td>http://assets.myntassets.com/v1/images/style/p...</td>\n      <td>59263</td>\n    </tr>\n    <tr>\n      <th>3</th>\n      <td>21379.jpg</td>\n      <td>http://assets.myntassets.com/v1/images/style/p...</td>\n      <td>21379</td>\n    </tr>\n    <tr>\n      <th>4</th>\n      <td>53759.jpg</td>\n      <td>http://assets.myntassets.com/v1/images/style/p...</td>\n      <td>53759</td>\n    </tr>\n    <tr>\n      <th>...</th>\n      <td>...</td>\n      <td>...</td>\n      <td>...</td>\n    </tr>\n    <tr>\n      <th>44441</th>\n      <td>17036.jpg</td>\n      <td>http://assets.myntassets.com/v1/images/style/p...</td>\n      <td>17036</td>\n    </tr>\n    <tr>\n      <th>44442</th>\n      <td>6461.jpg</td>\n      <td>http://assets.myntassets.com/v1/images/style/p...</td>\n      <td>6461</td>\n    </tr>\n    <tr>\n      <th>44443</th>\n      <td>18842.jpg</td>\n      <td>http://assets.myntassets.com/v1/images/style/p...</td>\n      <td>18842</td>\n    </tr>\n    <tr>\n      <th>44444</th>\n      <td>46694.jpg</td>\n      <td>http://assets.myntassets.com/v1/images/style/p...</td>\n      <td>46694</td>\n    </tr>\n    <tr>\n      <th>44445</th>\n      <td>51623.jpg</td>\n      <td>http://assets.myntassets.com/assets/images/516...</td>\n      <td>51623</td>\n    </tr>\n  </tbody>\n</table>\n<p>44446 rows × 3 columns</p>\n</div>"
          },
          "metadata": {}
        }
      ]
    },
    {
      "cell_type": "markdown",
      "source": [
        "## Merging the Two Dataframes"
      ],
      "metadata": {
        "id": "ucpgYCoaWXBu"
      }
    },
    {
      "cell_type": "code",
      "source": [
        "data = styles_df.merge(images_df,on='id',how='left').reset_index(drop=True)\n",
        "data['filename'] = data['filename'].apply(lambda x: os.path.join(\"../input/fashion-product-images-dataset/fashion-dataset/images/\",x))"
      ],
      "metadata": {
        "execution": {
          "iopub.status.busy": "2022-07-07T18:07:16.519909Z",
          "iopub.execute_input": "2022-07-07T18:07:16.520425Z",
          "iopub.status.idle": "2022-07-07T18:07:16.689369Z",
          "shell.execute_reply.started": "2022-07-07T18:07:16.520387Z",
          "shell.execute_reply": "2022-07-07T18:07:16.688448Z"
        },
        "trusted": true,
        "id": "k4AmafkEWXBu"
      },
      "execution_count": null,
      "outputs": []
    },
    {
      "cell_type": "code",
      "source": [
        "image_files = os.listdir(\"../input/fashion-product-images-dataset/fashion-dataset/images\")"
      ],
      "metadata": {
        "execution": {
          "iopub.status.busy": "2022-07-07T18:07:16.690732Z",
          "iopub.execute_input": "2022-07-07T18:07:16.691087Z",
          "iopub.status.idle": "2022-07-07T18:07:18.719550Z",
          "shell.execute_reply.started": "2022-07-07T18:07:16.691052Z",
          "shell.execute_reply": "2022-07-07T18:07:18.718565Z"
        },
        "trusted": true,
        "id": "bRG3U2NIWXBu"
      },
      "execution_count": null,
      "outputs": []
    },
    {
      "cell_type": "markdown",
      "source": [
        "## Removing Products for which images are not present"
      ],
      "metadata": {
        "id": "TjBrJt5uWXBv"
      }
    },
    {
      "cell_type": "code",
      "source": [
        "data['file_found'] = data['id'].apply(lambda x: f\"{x}.jpg\" in image_files)"
      ],
      "metadata": {
        "execution": {
          "iopub.status.busy": "2022-07-07T18:07:18.721094Z",
          "iopub.execute_input": "2022-07-07T18:07:18.721728Z",
          "iopub.status.idle": "2022-07-07T18:07:39.515343Z",
          "shell.execute_reply.started": "2022-07-07T18:07:18.721693Z",
          "shell.execute_reply": "2022-07-07T18:07:39.514357Z"
        },
        "trusted": true,
        "id": "LEG8w9eRWXBv"
      },
      "execution_count": null,
      "outputs": []
    },
    {
      "cell_type": "code",
      "source": [
        "data = data[data['file_found']].reset_index(drop=True)"
      ],
      "metadata": {
        "execution": {
          "iopub.status.busy": "2022-07-07T18:07:39.516844Z",
          "iopub.execute_input": "2022-07-07T18:07:39.517200Z",
          "iopub.status.idle": "2022-07-07T18:07:39.535698Z",
          "shell.execute_reply.started": "2022-07-07T18:07:39.517164Z",
          "shell.execute_reply": "2022-07-07T18:07:39.534625Z"
        },
        "trusted": true,
        "id": "h2kudHuJWXBv"
      },
      "execution_count": null,
      "outputs": []
    },
    {
      "cell_type": "markdown",
      "source": [
        "## Final Data"
      ],
      "metadata": {
        "id": "VtFN30jQWXBv"
      }
    },
    {
      "cell_type": "code",
      "source": [
        "data.head()"
      ],
      "metadata": {
        "execution": {
          "iopub.status.busy": "2022-07-07T18:07:39.540820Z",
          "iopub.execute_input": "2022-07-07T18:07:39.541105Z",
          "iopub.status.idle": "2022-07-07T18:07:39.557779Z",
          "shell.execute_reply.started": "2022-07-07T18:07:39.541079Z",
          "shell.execute_reply": "2022-07-07T18:07:39.556862Z"
        },
        "trusted": true,
        "id": "YLLUAofKWXBw",
        "outputId": "23219e9b-a4ed-4233-e013-a9ecf7aefd49"
      },
      "execution_count": null,
      "outputs": [
        {
          "execution_count": 10,
          "output_type": "execute_result",
          "data": {
            "text/plain": "      id gender masterCategory subCategory  articleType baseColour  season  \\\n0  15970    Men        Apparel     Topwear       Shirts  Navy Blue    Fall   \n1  39386    Men        Apparel  Bottomwear        Jeans       Blue  Summer   \n2  59263  Women    Accessories     Watches      Watches     Silver  Winter   \n3  21379    Men        Apparel  Bottomwear  Track Pants      Black    Fall   \n4  53759    Men        Apparel     Topwear      Tshirts       Grey  Summer   \n\n     year   usage                             productDisplayName  \\\n0  2011.0  Casual               Turtle Check Men Navy Blue Shirt   \n1  2012.0  Casual             Peter England Men Party Blue Jeans   \n2  2016.0  Casual                       Titan Women Silver Watch   \n3  2011.0  Casual  Manchester United Men Solid Black Track Pants   \n4  2012.0  Casual                          Puma Men Grey T-shirt   \n\n                                            filename  \\\n0  ../input/fashion-product-images-dataset/fashio...   \n1  ../input/fashion-product-images-dataset/fashio...   \n2  ../input/fashion-product-images-dataset/fashio...   \n3  ../input/fashion-product-images-dataset/fashio...   \n4  ../input/fashion-product-images-dataset/fashio...   \n\n                                                link  file_found  \n0  http://assets.myntassets.com/v1/images/style/p...        True  \n1  http://assets.myntassets.com/v1/images/style/p...        True  \n2  http://assets.myntassets.com/v1/images/style/p...        True  \n3  http://assets.myntassets.com/v1/images/style/p...        True  \n4  http://assets.myntassets.com/v1/images/style/p...        True  ",
            "text/html": "<div>\n<style scoped>\n    .dataframe tbody tr th:only-of-type {\n        vertical-align: middle;\n    }\n\n    .dataframe tbody tr th {\n        vertical-align: top;\n    }\n\n    .dataframe thead th {\n        text-align: right;\n    }\n</style>\n<table border=\"1\" class=\"dataframe\">\n  <thead>\n    <tr style=\"text-align: right;\">\n      <th></th>\n      <th>id</th>\n      <th>gender</th>\n      <th>masterCategory</th>\n      <th>subCategory</th>\n      <th>articleType</th>\n      <th>baseColour</th>\n      <th>season</th>\n      <th>year</th>\n      <th>usage</th>\n      <th>productDisplayName</th>\n      <th>filename</th>\n      <th>link</th>\n      <th>file_found</th>\n    </tr>\n  </thead>\n  <tbody>\n    <tr>\n      <th>0</th>\n      <td>15970</td>\n      <td>Men</td>\n      <td>Apparel</td>\n      <td>Topwear</td>\n      <td>Shirts</td>\n      <td>Navy Blue</td>\n      <td>Fall</td>\n      <td>2011.0</td>\n      <td>Casual</td>\n      <td>Turtle Check Men Navy Blue Shirt</td>\n      <td>../input/fashion-product-images-dataset/fashio...</td>\n      <td>http://assets.myntassets.com/v1/images/style/p...</td>\n      <td>True</td>\n    </tr>\n    <tr>\n      <th>1</th>\n      <td>39386</td>\n      <td>Men</td>\n      <td>Apparel</td>\n      <td>Bottomwear</td>\n      <td>Jeans</td>\n      <td>Blue</td>\n      <td>Summer</td>\n      <td>2012.0</td>\n      <td>Casual</td>\n      <td>Peter England Men Party Blue Jeans</td>\n      <td>../input/fashion-product-images-dataset/fashio...</td>\n      <td>http://assets.myntassets.com/v1/images/style/p...</td>\n      <td>True</td>\n    </tr>\n    <tr>\n      <th>2</th>\n      <td>59263</td>\n      <td>Women</td>\n      <td>Accessories</td>\n      <td>Watches</td>\n      <td>Watches</td>\n      <td>Silver</td>\n      <td>Winter</td>\n      <td>2016.0</td>\n      <td>Casual</td>\n      <td>Titan Women Silver Watch</td>\n      <td>../input/fashion-product-images-dataset/fashio...</td>\n      <td>http://assets.myntassets.com/v1/images/style/p...</td>\n      <td>True</td>\n    </tr>\n    <tr>\n      <th>3</th>\n      <td>21379</td>\n      <td>Men</td>\n      <td>Apparel</td>\n      <td>Bottomwear</td>\n      <td>Track Pants</td>\n      <td>Black</td>\n      <td>Fall</td>\n      <td>2011.0</td>\n      <td>Casual</td>\n      <td>Manchester United Men Solid Black Track Pants</td>\n      <td>../input/fashion-product-images-dataset/fashio...</td>\n      <td>http://assets.myntassets.com/v1/images/style/p...</td>\n      <td>True</td>\n    </tr>\n    <tr>\n      <th>4</th>\n      <td>53759</td>\n      <td>Men</td>\n      <td>Apparel</td>\n      <td>Topwear</td>\n      <td>Tshirts</td>\n      <td>Grey</td>\n      <td>Summer</td>\n      <td>2012.0</td>\n      <td>Casual</td>\n      <td>Puma Men Grey T-shirt</td>\n      <td>../input/fashion-product-images-dataset/fashio...</td>\n      <td>http://assets.myntassets.com/v1/images/style/p...</td>\n      <td>True</td>\n    </tr>\n  </tbody>\n</table>\n</div>"
          },
          "metadata": {}
        }
      ]
    },
    {
      "cell_type": "markdown",
      "source": [
        "## Checking for Null Values"
      ],
      "metadata": {
        "id": "gZzRX0--WXBw"
      }
    },
    {
      "cell_type": "code",
      "source": [
        "data.isnull().sum()"
      ],
      "metadata": {
        "execution": {
          "iopub.status.busy": "2022-07-07T18:07:39.559228Z",
          "iopub.execute_input": "2022-07-07T18:07:39.559970Z",
          "iopub.status.idle": "2022-07-07T18:07:39.612511Z",
          "shell.execute_reply.started": "2022-07-07T18:07:39.559932Z",
          "shell.execute_reply": "2022-07-07T18:07:39.611607Z"
        },
        "trusted": true,
        "id": "zyJRW591WXBw",
        "outputId": "6ea4d8d0-c66a-4b11-e1a0-3486ab2857db"
      },
      "execution_count": null,
      "outputs": [
        {
          "execution_count": 11,
          "output_type": "execute_result",
          "data": {
            "text/plain": "id                      0\ngender                  0\nmasterCategory          0\nsubCategory             0\narticleType             0\nbaseColour             15\nseason                 21\nyear                    1\nusage                 317\nproductDisplayName      7\nfilename                0\nlink                    0\nfile_found              0\ndtype: int64"
          },
          "metadata": {}
        }
      ]
    },
    {
      "cell_type": "code",
      "source": [
        "fig = px.bar(data.groupby('masterCategory').count().reset_index(), x='masterCategory',y='id',title='Count per Product Category')\n",
        "fig.update_layout(barmode='stack', xaxis={'categoryorder':'total descending'})"
      ],
      "metadata": {
        "execution": {
          "iopub.status.busy": "2022-07-07T18:07:39.613723Z",
          "iopub.execute_input": "2022-07-07T18:07:39.614634Z",
          "iopub.status.idle": "2022-07-07T18:07:40.595397Z",
          "shell.execute_reply.started": "2022-07-07T18:07:39.614596Z",
          "shell.execute_reply": "2022-07-07T18:07:40.594508Z"
        },
        "trusted": true,
        "id": "Nuev5mMAWXBx"
      },
      "execution_count": null,
      "outputs": []
    },
    {
      "cell_type": "code",
      "source": [
        "fig = px.bar(data.groupby('subCategory').count().reset_index(), x='subCategory',y='id',title='Count per Product Sub-category', color='subCategory')\n",
        "fig.update_layout(barmode='stack', xaxis={'categoryorder':'total descending'})"
      ],
      "metadata": {
        "execution": {
          "iopub.status.busy": "2022-07-07T18:07:40.596647Z",
          "iopub.execute_input": "2022-07-07T18:07:40.598052Z",
          "iopub.status.idle": "2022-07-07T18:07:40.873517Z",
          "shell.execute_reply.started": "2022-07-07T18:07:40.598015Z",
          "shell.execute_reply": "2022-07-07T18:07:40.872510Z"
        },
        "trusted": true,
        "id": "DHiZ7131WXBx"
      },
      "execution_count": null,
      "outputs": []
    },
    {
      "cell_type": "code",
      "source": [
        "fig = px.bar(data.groupby('season').count().reset_index(), x='season', y='id', title='Count per Season Category')\n",
        "fig.update_layout(barmode='stack', xaxis={'categoryorder':'total descending'})"
      ],
      "metadata": {
        "execution": {
          "iopub.status.busy": "2022-07-07T18:07:40.874968Z",
          "iopub.execute_input": "2022-07-07T18:07:40.876058Z",
          "iopub.status.idle": "2022-07-07T18:07:40.985196Z",
          "shell.execute_reply.started": "2022-07-07T18:07:40.876021Z",
          "shell.execute_reply": "2022-07-07T18:07:40.984169Z"
        },
        "trusted": true,
        "id": "FZZhxO_fWXBx"
      },
      "execution_count": null,
      "outputs": []
    },
    {
      "cell_type": "code",
      "source": [
        "fig = px.bar(data.groupby('usage').count().reset_index(), x='usage', y='id', title='Count per Usage Category')\n",
        "fig.update_layout(barmode='stack', xaxis={'categoryorder':'total descending'})"
      ],
      "metadata": {
        "execution": {
          "iopub.status.busy": "2022-07-07T18:07:40.986855Z",
          "iopub.execute_input": "2022-07-07T18:07:40.987204Z",
          "iopub.status.idle": "2022-07-07T18:07:41.094506Z",
          "shell.execute_reply.started": "2022-07-07T18:07:40.987170Z",
          "shell.execute_reply": "2022-07-07T18:07:41.093473Z"
        },
        "trusted": true,
        "id": "R7QlyEmEWXBy"
      },
      "execution_count": null,
      "outputs": []
    },
    {
      "cell_type": "code",
      "source": [
        "data.drop(columns=['productDisplayName','link','file_found'],inplace=True)\n",
        "data"
      ],
      "metadata": {
        "execution": {
          "iopub.status.busy": "2022-07-07T18:07:41.096290Z",
          "iopub.execute_input": "2022-07-07T18:07:41.096677Z",
          "iopub.status.idle": "2022-07-07T18:07:41.121300Z",
          "shell.execute_reply.started": "2022-07-07T18:07:41.096641Z",
          "shell.execute_reply": "2022-07-07T18:07:41.120248Z"
        },
        "trusted": true,
        "id": "CvFexjftWXBy",
        "outputId": "72bb067f-c5e4-4a0d-9e5c-de84644a4b94"
      },
      "execution_count": null,
      "outputs": [
        {
          "execution_count": 16,
          "output_type": "execute_result",
          "data": {
            "text/plain": "          id gender masterCategory subCategory            articleType  \\\n0      15970    Men        Apparel     Topwear                 Shirts   \n1      39386    Men        Apparel  Bottomwear                  Jeans   \n2      59263  Women    Accessories     Watches                Watches   \n3      21379    Men        Apparel  Bottomwear            Track Pants   \n4      53759    Men        Apparel     Topwear                Tshirts   \n...      ...    ...            ...         ...                    ...   \n44414  17036    Men       Footwear       Shoes           Casual Shoes   \n44415   6461    Men       Footwear  Flip Flops             Flip Flops   \n44416  18842    Men        Apparel     Topwear                Tshirts   \n44417  46694  Women  Personal Care   Fragrance  Perfume and Body Mist   \n44418  51623  Women    Accessories     Watches                Watches   \n\n      baseColour  season    year   usage  \\\n0      Navy Blue    Fall  2011.0  Casual   \n1           Blue  Summer  2012.0  Casual   \n2         Silver  Winter  2016.0  Casual   \n3          Black    Fall  2011.0  Casual   \n4           Grey  Summer  2012.0  Casual   \n...          ...     ...     ...     ...   \n44414      White  Summer  2013.0  Casual   \n44415        Red  Summer  2011.0  Casual   \n44416       Blue    Fall  2011.0  Casual   \n44417       Blue  Spring  2017.0  Casual   \n44418       Pink  Winter  2016.0  Casual   \n\n                                                filename  \n0      ../input/fashion-product-images-dataset/fashio...  \n1      ../input/fashion-product-images-dataset/fashio...  \n2      ../input/fashion-product-images-dataset/fashio...  \n3      ../input/fashion-product-images-dataset/fashio...  \n4      ../input/fashion-product-images-dataset/fashio...  \n...                                                  ...  \n44414  ../input/fashion-product-images-dataset/fashio...  \n44415  ../input/fashion-product-images-dataset/fashio...  \n44416  ../input/fashion-product-images-dataset/fashio...  \n44417  ../input/fashion-product-images-dataset/fashio...  \n44418  ../input/fashion-product-images-dataset/fashio...  \n\n[44419 rows x 10 columns]",
            "text/html": "<div>\n<style scoped>\n    .dataframe tbody tr th:only-of-type {\n        vertical-align: middle;\n    }\n\n    .dataframe tbody tr th {\n        vertical-align: top;\n    }\n\n    .dataframe thead th {\n        text-align: right;\n    }\n</style>\n<table border=\"1\" class=\"dataframe\">\n  <thead>\n    <tr style=\"text-align: right;\">\n      <th></th>\n      <th>id</th>\n      <th>gender</th>\n      <th>masterCategory</th>\n      <th>subCategory</th>\n      <th>articleType</th>\n      <th>baseColour</th>\n      <th>season</th>\n      <th>year</th>\n      <th>usage</th>\n      <th>filename</th>\n    </tr>\n  </thead>\n  <tbody>\n    <tr>\n      <th>0</th>\n      <td>15970</td>\n      <td>Men</td>\n      <td>Apparel</td>\n      <td>Topwear</td>\n      <td>Shirts</td>\n      <td>Navy Blue</td>\n      <td>Fall</td>\n      <td>2011.0</td>\n      <td>Casual</td>\n      <td>../input/fashion-product-images-dataset/fashio...</td>\n    </tr>\n    <tr>\n      <th>1</th>\n      <td>39386</td>\n      <td>Men</td>\n      <td>Apparel</td>\n      <td>Bottomwear</td>\n      <td>Jeans</td>\n      <td>Blue</td>\n      <td>Summer</td>\n      <td>2012.0</td>\n      <td>Casual</td>\n      <td>../input/fashion-product-images-dataset/fashio...</td>\n    </tr>\n    <tr>\n      <th>2</th>\n      <td>59263</td>\n      <td>Women</td>\n      <td>Accessories</td>\n      <td>Watches</td>\n      <td>Watches</td>\n      <td>Silver</td>\n      <td>Winter</td>\n      <td>2016.0</td>\n      <td>Casual</td>\n      <td>../input/fashion-product-images-dataset/fashio...</td>\n    </tr>\n    <tr>\n      <th>3</th>\n      <td>21379</td>\n      <td>Men</td>\n      <td>Apparel</td>\n      <td>Bottomwear</td>\n      <td>Track Pants</td>\n      <td>Black</td>\n      <td>Fall</td>\n      <td>2011.0</td>\n      <td>Casual</td>\n      <td>../input/fashion-product-images-dataset/fashio...</td>\n    </tr>\n    <tr>\n      <th>4</th>\n      <td>53759</td>\n      <td>Men</td>\n      <td>Apparel</td>\n      <td>Topwear</td>\n      <td>Tshirts</td>\n      <td>Grey</td>\n      <td>Summer</td>\n      <td>2012.0</td>\n      <td>Casual</td>\n      <td>../input/fashion-product-images-dataset/fashio...</td>\n    </tr>\n    <tr>\n      <th>...</th>\n      <td>...</td>\n      <td>...</td>\n      <td>...</td>\n      <td>...</td>\n      <td>...</td>\n      <td>...</td>\n      <td>...</td>\n      <td>...</td>\n      <td>...</td>\n      <td>...</td>\n    </tr>\n    <tr>\n      <th>44414</th>\n      <td>17036</td>\n      <td>Men</td>\n      <td>Footwear</td>\n      <td>Shoes</td>\n      <td>Casual Shoes</td>\n      <td>White</td>\n      <td>Summer</td>\n      <td>2013.0</td>\n      <td>Casual</td>\n      <td>../input/fashion-product-images-dataset/fashio...</td>\n    </tr>\n    <tr>\n      <th>44415</th>\n      <td>6461</td>\n      <td>Men</td>\n      <td>Footwear</td>\n      <td>Flip Flops</td>\n      <td>Flip Flops</td>\n      <td>Red</td>\n      <td>Summer</td>\n      <td>2011.0</td>\n      <td>Casual</td>\n      <td>../input/fashion-product-images-dataset/fashio...</td>\n    </tr>\n    <tr>\n      <th>44416</th>\n      <td>18842</td>\n      <td>Men</td>\n      <td>Apparel</td>\n      <td>Topwear</td>\n      <td>Tshirts</td>\n      <td>Blue</td>\n      <td>Fall</td>\n      <td>2011.0</td>\n      <td>Casual</td>\n      <td>../input/fashion-product-images-dataset/fashio...</td>\n    </tr>\n    <tr>\n      <th>44417</th>\n      <td>46694</td>\n      <td>Women</td>\n      <td>Personal Care</td>\n      <td>Fragrance</td>\n      <td>Perfume and Body Mist</td>\n      <td>Blue</td>\n      <td>Spring</td>\n      <td>2017.0</td>\n      <td>Casual</td>\n      <td>../input/fashion-product-images-dataset/fashio...</td>\n    </tr>\n    <tr>\n      <th>44418</th>\n      <td>51623</td>\n      <td>Women</td>\n      <td>Accessories</td>\n      <td>Watches</td>\n      <td>Watches</td>\n      <td>Pink</td>\n      <td>Winter</td>\n      <td>2016.0</td>\n      <td>Casual</td>\n      <td>../input/fashion-product-images-dataset/fashio...</td>\n    </tr>\n  </tbody>\n</table>\n<p>44419 rows × 10 columns</p>\n</div>"
          },
          "metadata": {}
        }
      ]
    },
    {
      "cell_type": "code",
      "source": [
        "data = data.sample(frac=1).reset_index(drop=True)\n",
        "n = len(data)\n",
        "train = data.iloc[:int(n*0.8),:]\n",
        "val = data.iloc[int(n*0.8):,:].reset_index(drop=True)"
      ],
      "metadata": {
        "execution": {
          "iopub.status.busy": "2022-07-07T18:07:41.123549Z",
          "iopub.execute_input": "2022-07-07T18:07:41.123947Z",
          "iopub.status.idle": "2022-07-07T18:07:41.146836Z",
          "shell.execute_reply.started": "2022-07-07T18:07:41.123903Z",
          "shell.execute_reply": "2022-07-07T18:07:41.145963Z"
        },
        "trusted": true,
        "id": "yMizgH7UWXBz"
      },
      "execution_count": null,
      "outputs": []
    },
    {
      "cell_type": "markdown",
      "source": [
        "## Data Generator"
      ],
      "metadata": {
        "id": "RBvxqQjyWXBz"
      }
    },
    {
      "cell_type": "code",
      "source": [
        "datagen = ImageDataGenerator(rescale=1/255.)\n",
        "\n",
        "train_generator = datagen.flow_from_dataframe(dataframe=train,\n",
        "                                             target_size=(256,256),\n",
        "                                             x_col='filename',\n",
        "                                             class_mode=None,\n",
        "                                             batch_size=32,\n",
        "                                             shuffle=False,\n",
        "                                             classes=['images'])\n",
        "\n",
        "val_generator = datagen.flow_from_dataframe(dataframe=val,\n",
        "                                             target_size=(256,256),\n",
        "                                             x_col='filename',\n",
        "                                             class_mode=None,\n",
        "                                             batch_size=32,\n",
        "                                             shuffle=False,\n",
        "                                             classes=['images'])"
      ],
      "metadata": {
        "execution": {
          "iopub.status.busy": "2022-07-07T18:08:01.530429Z",
          "iopub.execute_input": "2022-07-07T18:08:01.530772Z",
          "iopub.status.idle": "2022-07-07T18:09:48.372127Z",
          "shell.execute_reply.started": "2022-07-07T18:08:01.530743Z",
          "shell.execute_reply": "2022-07-07T18:09:48.371104Z"
        },
        "trusted": true,
        "id": "d4u0ha-KWXBz",
        "outputId": "04ea9822-96c8-47b9-b865-e69ee1fed55a"
      },
      "execution_count": null,
      "outputs": [
        {
          "name": "stdout",
          "text": "Found 35535 validated image filenames.\nFound 8884 validated image filenames.\n",
          "output_type": "stream"
        }
      ]
    },
    {
      "cell_type": "code",
      "source": [
        "base_model = VGG16(include_top=False,input_shape=(256,256,3))\n",
        "\n",
        "model = Sequential()\n",
        "for layer in base_model.layers:\n",
        "    model.add(layer)\n",
        "model.add(GlobalAveragePooling2D())\n",
        "model.summary()"
      ],
      "metadata": {
        "execution": {
          "iopub.status.busy": "2022-07-07T18:10:58.173075Z",
          "iopub.execute_input": "2022-07-07T18:10:58.173746Z",
          "iopub.status.idle": "2022-07-07T18:10:58.527948Z",
          "shell.execute_reply.started": "2022-07-07T18:10:58.173706Z",
          "shell.execute_reply": "2022-07-07T18:10:58.526004Z"
        },
        "trusted": true,
        "id": "idXab8CRWXB0",
        "outputId": "89002365-0fc6-4115-eaaa-dae1d31d51e8"
      },
      "execution_count": null,
      "outputs": [
        {
          "name": "stdout",
          "text": "Model: \"sequential_1\"\n_________________________________________________________________\nLayer (type)                 Output Shape              Param #   \n=================================================================\nblock1_conv1 (Conv2D)        (None, 256, 256, 64)      1792      \n_________________________________________________________________\nblock1_conv2 (Conv2D)        (None, 256, 256, 64)      36928     \n_________________________________________________________________\nblock1_pool (MaxPooling2D)   (None, 128, 128, 64)      0         \n_________________________________________________________________\nblock2_conv1 (Conv2D)        (None, 128, 128, 128)     73856     \n_________________________________________________________________\nblock2_conv2 (Conv2D)        (None, 128, 128, 128)     147584    \n_________________________________________________________________\nblock2_pool (MaxPooling2D)   (None, 64, 64, 128)       0         \n_________________________________________________________________\nblock3_conv1 (Conv2D)        (None, 64, 64, 256)       295168    \n_________________________________________________________________\nblock3_conv2 (Conv2D)        (None, 64, 64, 256)       590080    \n_________________________________________________________________\nblock3_conv3 (Conv2D)        (None, 64, 64, 256)       590080    \n_________________________________________________________________\nblock3_pool (MaxPooling2D)   (None, 32, 32, 256)       0         \n_________________________________________________________________\nblock4_conv1 (Conv2D)        (None, 32, 32, 512)       1180160   \n_________________________________________________________________\nblock4_conv2 (Conv2D)        (None, 32, 32, 512)       2359808   \n_________________________________________________________________\nblock4_conv3 (Conv2D)        (None, 32, 32, 512)       2359808   \n_________________________________________________________________\nblock4_pool (MaxPooling2D)   (None, 16, 16, 512)       0         \n_________________________________________________________________\nblock5_conv1 (Conv2D)        (None, 16, 16, 512)       2359808   \n_________________________________________________________________\nblock5_conv2 (Conv2D)        (None, 16, 16, 512)       2359808   \n_________________________________________________________________\nblock5_conv3 (Conv2D)        (None, 16, 16, 512)       2359808   \n_________________________________________________________________\nblock5_pool (MaxPooling2D)   (None, 8, 8, 512)         0         \n_________________________________________________________________\nglobal_average_pooling2d_1 ( (None, 512)               0         \n=================================================================\nTotal params: 14,714,688\nTrainable params: 14,714,688\nNon-trainable params: 0\n_________________________________________________________________\n",
          "output_type": "stream"
        }
      ]
    },
    {
      "cell_type": "markdown",
      "source": [
        "## Extracting Features of Training and Validation Set"
      ],
      "metadata": {
        "id": "2_RsI6RXWXB0"
      }
    },
    {
      "cell_type": "code",
      "source": [
        "train_features = model.predict(train_generator,verbose=1)\n",
        "val_features = model.predict(val_generator,verbose=1)"
      ],
      "metadata": {
        "execution": {
          "iopub.status.busy": "2022-07-07T18:11:03.961864Z",
          "iopub.execute_input": "2022-07-07T18:11:03.962431Z",
          "iopub.status.idle": "2022-07-07T18:44:13.207646Z",
          "shell.execute_reply.started": "2022-07-07T18:11:03.962397Z",
          "shell.execute_reply": "2022-07-07T18:44:13.206658Z"
        },
        "trusted": true,
        "id": "5ey6e8NjWXB0",
        "outputId": "da72449e-4614-49b3-aef3-35ea19c25f40"
      },
      "execution_count": null,
      "outputs": [
        {
          "name": "stderr",
          "text": "2022-07-07 18:11:05.491363: I tensorflow/compiler/mlir/mlir_graph_optimization_pass.cc:185] None of the MLIR Optimization Passes are enabled (registered 2)\n2022-07-07 18:11:07.666070: I tensorflow/stream_executor/cuda/cuda_dnn.cc:369] Loaded cuDNN version 8005\n",
          "output_type": "stream"
        },
        {
          "name": "stdout",
          "text": "1111/1111 [==============================] - 1584s 1s/step\n278/278 [==============================] - 403s 1s/step\n",
          "output_type": "stream"
        }
      ]
    },
    {
      "cell_type": "code",
      "source": [
        "from sklearn.decomposition import PCA"
      ],
      "metadata": {
        "execution": {
          "iopub.status.busy": "2022-07-07T18:45:38.213347Z",
          "iopub.execute_input": "2022-07-07T18:45:38.213708Z",
          "iopub.status.idle": "2022-07-07T18:45:38.218464Z",
          "shell.execute_reply.started": "2022-07-07T18:45:38.213678Z",
          "shell.execute_reply": "2022-07-07T18:45:38.217253Z"
        },
        "trusted": true,
        "id": "zpbqAufvWXB1"
      },
      "execution_count": null,
      "outputs": []
    },
    {
      "cell_type": "markdown",
      "source": [
        "<img src=\"https://miro.medium.com/max/1400/1*37a_i1t1tDxDYT3ZI6Yn8w.gif\">"
      ],
      "metadata": {
        "id": "03bufx54WXB4"
      }
    },
    {
      "cell_type": "code",
      "source": [
        "pca = PCA(2)\n",
        "pca.fit(train_features)\n",
        "train_pca = pca.transform(train_features)"
      ],
      "metadata": {
        "execution": {
          "iopub.status.busy": "2022-07-07T13:57:05.328877Z",
          "iopub.execute_input": "2022-07-07T13:57:05.329167Z",
          "iopub.status.idle": "2022-07-07T13:57:06.450762Z",
          "shell.execute_reply.started": "2022-07-07T13:57:05.329142Z",
          "shell.execute_reply": "2022-07-07T13:57:06.449505Z"
        },
        "trusted": true,
        "id": "iNQEoplYWXB4"
      },
      "execution_count": null,
      "outputs": []
    },
    {
      "cell_type": "code",
      "source": [
        "test_pca = pca.fit_transform(val_features)"
      ],
      "metadata": {
        "execution": {
          "iopub.status.busy": "2022-07-07T13:57:06.452442Z",
          "iopub.execute_input": "2022-07-07T13:57:06.452790Z",
          "iopub.status.idle": "2022-07-07T13:57:06.661948Z",
          "shell.execute_reply.started": "2022-07-07T13:57:06.452755Z",
          "shell.execute_reply": "2022-07-07T13:57:06.660815Z"
        },
        "trusted": true,
        "id": "OpsEwDgIWXB5"
      },
      "execution_count": null,
      "outputs": []
    },
    {
      "cell_type": "code",
      "source": [
        "train_pca = pd.DataFrame(train_pca)\n",
        "train = train.iloc[:,0:10]\n",
        "train = train.merge(train_pca, how='left', left_index=True, right_index=True)"
      ],
      "metadata": {
        "execution": {
          "iopub.status.busy": "2022-07-07T13:58:07.021926Z",
          "iopub.execute_input": "2022-07-07T13:58:07.022817Z",
          "iopub.status.idle": "2022-07-07T13:58:07.038572Z",
          "shell.execute_reply.started": "2022-07-07T13:58:07.022777Z",
          "shell.execute_reply": "2022-07-07T13:58:07.037520Z"
        },
        "trusted": true,
        "id": "C3Fo75rAWXB5"
      },
      "execution_count": null,
      "outputs": []
    },
    {
      "cell_type": "markdown",
      "source": [
        "# Visualization: Principal Components"
      ],
      "metadata": {
        "id": "Kx-rHaSFWXB5"
      }
    },
    {
      "cell_type": "code",
      "source": [
        "fig = px.scatter(train, x=0, y=1, color=\"masterCategory\", title='Main Category', height=600, labels={\n",
        "                     \"0\": \"Principal Component 1\",\n",
        "                     \"1\": \"Principal Component 2\"})\n",
        "fig.show()"
      ],
      "metadata": {
        "execution": {
          "iopub.status.busy": "2022-07-07T14:43:41.611249Z",
          "iopub.execute_input": "2022-07-07T14:43:41.612507Z",
          "iopub.status.idle": "2022-07-07T14:43:42.027103Z",
          "shell.execute_reply.started": "2022-07-07T14:43:41.612453Z",
          "shell.execute_reply": "2022-07-07T14:43:42.019142Z"
        },
        "trusted": true,
        "id": "ktUsTR2vWXB5"
      },
      "execution_count": null,
      "outputs": []
    },
    {
      "cell_type": "code",
      "source": [
        "fig = px.scatter(train, x=0, y=1, color=\"gender\", title='Gender', height=600, labels={\n",
        "                     \"0\": \"Principal Component 1\",\n",
        "                     \"1\": \"Principal Component 2\"})\n",
        "fig.show()"
      ],
      "metadata": {
        "execution": {
          "iopub.status.busy": "2022-07-07T14:44:00.714882Z",
          "iopub.execute_input": "2022-07-07T14:44:00.715251Z",
          "iopub.status.idle": "2022-07-07T14:44:00.958522Z",
          "shell.execute_reply.started": "2022-07-07T14:44:00.715219Z",
          "shell.execute_reply": "2022-07-07T14:44:00.957570Z"
        },
        "trusted": true,
        "id": "DD_Gmz4eWXB6"
      },
      "execution_count": null,
      "outputs": []
    },
    {
      "cell_type": "code",
      "source": [
        "fig = px.scatter(train, x=0, y=1, color=\"subCategory\", title='Sub Category', height=600, labels={\n",
        "                     \"0\": \"Principal Component 1\",\n",
        "                     \"1\": \"Principal Component 2\"})\n",
        "fig.show()"
      ],
      "metadata": {
        "execution": {
          "iopub.status.busy": "2022-07-07T14:44:22.024044Z",
          "iopub.execute_input": "2022-07-07T14:44:22.025231Z",
          "iopub.status.idle": "2022-07-07T14:44:22.390910Z",
          "shell.execute_reply.started": "2022-07-07T14:44:22.025191Z",
          "shell.execute_reply": "2022-07-07T14:44:22.389942Z"
        },
        "trusted": true,
        "id": "ggnPEo8oWXB6"
      },
      "execution_count": null,
      "outputs": []
    },
    {
      "cell_type": "code",
      "source": [
        "fig = px.scatter(train[train['season'].notna()], x=0, y=1, color=\"season\", title='Season', height=600, labels={\n",
        "                     \"0\": \"Principal Component 1\",\n",
        "                     \"1\": \"Principal Component 2\"})\n",
        "fig.show()"
      ],
      "metadata": {
        "execution": {
          "iopub.status.busy": "2022-07-07T14:44:40.348587Z",
          "iopub.execute_input": "2022-07-07T14:44:40.348939Z",
          "iopub.status.idle": "2022-07-07T14:44:40.595880Z",
          "shell.execute_reply.started": "2022-07-07T14:44:40.348907Z",
          "shell.execute_reply": "2022-07-07T14:44:40.595035Z"
        },
        "trusted": true,
        "id": "jcS1BthfWXB7"
      },
      "execution_count": null,
      "outputs": []
    },
    {
      "cell_type": "code",
      "source": [
        "fig = px.scatter(train[train['usage'].notna()], x=0, y=1, color=\"usage\", title='Usage', height=600, labels={\n",
        "                     \"0\": \"Principal Component 1\",\n",
        "                     \"1\": \"Principal Component 2\"})\n",
        "fig.show()"
      ],
      "metadata": {
        "execution": {
          "iopub.status.busy": "2022-07-07T14:45:02.076400Z",
          "iopub.execute_input": "2022-07-07T14:45:02.076795Z",
          "iopub.status.idle": "2022-07-07T14:45:02.369033Z",
          "shell.execute_reply.started": "2022-07-07T14:45:02.076763Z",
          "shell.execute_reply": "2022-07-07T14:45:02.368071Z"
        },
        "trusted": true,
        "id": "N9zYRQEcWXB7"
      },
      "execution_count": null,
      "outputs": []
    },
    {
      "cell_type": "code",
      "source": [
        "pca = PCA()\n",
        "pca.fit(train_features)\n",
        "train_pca = pca.transform(train_features)\n",
        "variance_explained = np.cumsum(pca.explained_variance_ratio_)\n",
        "pcs = range(1,len(variance_explained)+1)"
      ],
      "metadata": {
        "execution": {
          "iopub.status.busy": "2022-07-07T14:21:34.104580Z",
          "iopub.execute_input": "2022-07-07T14:21:34.104975Z",
          "iopub.status.idle": "2022-07-07T14:21:36.018040Z",
          "shell.execute_reply.started": "2022-07-07T14:21:34.104943Z",
          "shell.execute_reply": "2022-07-07T14:21:36.016594Z"
        },
        "trusted": true,
        "id": "lEvFyERtWXB7"
      },
      "execution_count": null,
      "outputs": []
    },
    {
      "cell_type": "code",
      "source": [
        "px.line(x = pcs, y = variance_explained, title = 'Principal Components Cumulative Explained Variance', height=600,  labels={\n",
        "                     \"x\": \"Principal Components\",\n",
        "                     \"y\": \"Explained Variance\"})"
      ],
      "metadata": {
        "execution": {
          "iopub.status.busy": "2022-07-07T14:40:40.252380Z",
          "iopub.execute_input": "2022-07-07T14:40:40.252748Z",
          "iopub.status.idle": "2022-07-07T14:40:40.316030Z",
          "shell.execute_reply.started": "2022-07-07T14:40:40.252717Z",
          "shell.execute_reply": "2022-07-07T14:40:40.315023Z"
        },
        "trusted": true,
        "id": "uE9IQTgTWXB8"
      },
      "execution_count": null,
      "outputs": []
    },
    {
      "cell_type": "code",
      "source": [
        "val_pca = pca.fit_transform(val_features)[:,:313]\n",
        "val_pca = pd.DataFrame(val_pca)\n",
        "val = val.iloc[:,0:10]\n",
        "val = val.merge(val_pca, how='left', left_index=True, right_index=True)"
      ],
      "metadata": {
        "execution": {
          "iopub.status.busy": "2022-07-07T14:23:31.778478Z",
          "iopub.execute_input": "2022-07-07T14:23:31.778837Z",
          "iopub.status.idle": "2022-07-07T14:23:32.384864Z",
          "shell.execute_reply.started": "2022-07-07T14:23:31.778806Z",
          "shell.execute_reply": "2022-07-07T14:23:32.383652Z"
        },
        "trusted": true,
        "id": "d7o0AT4VWXB8"
      },
      "execution_count": null,
      "outputs": []
    },
    {
      "cell_type": "code",
      "source": [
        "X = val.iloc[:,-313:]\n",
        "y = val['id']"
      ],
      "metadata": {
        "execution": {
          "iopub.status.busy": "2022-07-07T14:23:36.642943Z",
          "iopub.execute_input": "2022-07-07T14:23:36.643621Z",
          "iopub.status.idle": "2022-07-07T14:23:36.651799Z",
          "shell.execute_reply.started": "2022-07-07T14:23:36.643585Z",
          "shell.execute_reply": "2022-07-07T14:23:36.650586Z"
        },
        "trusted": true,
        "id": "VguR5rawWXB9"
      },
      "execution_count": null,
      "outputs": []
    },
    {
      "cell_type": "code",
      "source": [
        "from sklearn.neighbors import KNeighborsClassifier\n",
        "\n",
        "neigh = KNeighborsClassifier(n_neighbors=6)\n",
        "neigh.fit(X, y)"
      ],
      "metadata": {
        "execution": {
          "iopub.status.busy": "2022-07-07T14:23:37.124031Z",
          "iopub.execute_input": "2022-07-07T14:23:37.124568Z",
          "iopub.status.idle": "2022-07-07T14:23:37.141363Z",
          "shell.execute_reply.started": "2022-07-07T14:23:37.124534Z",
          "shell.execute_reply": "2022-07-07T14:23:37.140261Z"
        },
        "trusted": true,
        "id": "GotYRvwQWXCF",
        "outputId": "54119181-19d0-4f03-b0e9-bbfac624b6b6"
      },
      "execution_count": null,
      "outputs": [
        {
          "execution_count": 64,
          "output_type": "execute_result",
          "data": {
            "text/plain": "KNeighborsClassifier(n_neighbors=6)"
          },
          "metadata": {}
        }
      ]
    },
    {
      "cell_type": "code",
      "source": [
        "def read_img(image_path):\n",
        "    image = load_img(image_path,target_size=(256,256,3))\n",
        "    image = img_to_array(image)\n",
        "    image = image/255.\n",
        "    return image"
      ],
      "metadata": {
        "execution": {
          "iopub.status.busy": "2022-07-07T14:23:37.712674Z",
          "iopub.execute_input": "2022-07-07T14:23:37.712954Z",
          "iopub.status.idle": "2022-07-07T14:23:37.719757Z",
          "shell.execute_reply.started": "2022-07-07T14:23:37.712928Z",
          "shell.execute_reply": "2022-07-07T14:23:37.718754Z"
        },
        "trusted": true,
        "id": "S11_NGDNWXCG"
      },
      "execution_count": null,
      "outputs": []
    },
    {
      "cell_type": "code",
      "source": [
        "import random"
      ],
      "metadata": {
        "execution": {
          "iopub.status.busy": "2022-07-07T14:23:38.983225Z",
          "iopub.execute_input": "2022-07-07T14:23:38.983824Z",
          "iopub.status.idle": "2022-07-07T14:23:38.988594Z",
          "shell.execute_reply.started": "2022-07-07T14:23:38.983790Z",
          "shell.execute_reply": "2022-07-07T14:23:38.987447Z"
        },
        "trusted": true,
        "id": "_U5dJn0yWXCG"
      },
      "execution_count": null,
      "outputs": []
    },
    {
      "cell_type": "code",
      "source": [
        "for _ in range(10):\n",
        "    i = random.randint(1,len(val))\n",
        "    img1 = read_img(val.loc[i,'filename'])\n",
        "    dist, index = neigh.kneighbors(X=X.iloc[i,:].values.reshape(1,-1))\n",
        "    plt.figure(figsize = (4 , 4))\n",
        "    plt.imshow(img1)\n",
        "    plt.title(\"Input Image\")\n",
        "\n",
        "    plt.figure(figsize = (20 , 20))\n",
        "    for i in range(1,6):\n",
        "        plt.subplot(1 , 5, i)\n",
        "        plt.subplots_adjust(hspace = 0.5 , wspace = 0.3)\n",
        "        image = read_img(val.loc[index[0][i],'filename'])\n",
        "        plt.imshow(image)\n",
        "        plt.title(f'Similar Product #{i}')"
      ],
      "metadata": {
        "execution": {
          "iopub.status.busy": "2022-07-07T14:38:20.026972Z",
          "iopub.execute_input": "2022-07-07T14:38:20.027773Z",
          "iopub.status.idle": "2022-07-07T14:38:30.965365Z",
          "shell.execute_reply.started": "2022-07-07T14:38:20.027731Z",
          "shell.execute_reply": "2022-07-07T14:38:30.964419Z"
        },
        "trusted": true,
        "id": "9y_MW4WEWXCG"
      },
      "execution_count": null,
      "outputs": []
    },
    {
      "cell_type": "code",
      "source": [],
      "metadata": {
        "id": "st0gsivPXNtM"
      },
      "execution_count": null,
      "outputs": []
    }
  ]
}